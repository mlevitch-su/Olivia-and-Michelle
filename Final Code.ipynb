{
 "cells": [
  {
   "cell_type": "code",
   "execution_count": 26,
   "metadata": {},
   "outputs": [
    {
     "name": "stdout",
     "output_type": "stream",
     "text": [
      "Enter a food:jif\n",
      "This food is on the list\n"
     ]
    },
    {
     "data": {
      "text/html": [
       "<div>\n",
       "<style scoped>\n",
       "    .dataframe tbody tr th:only-of-type {\n",
       "        vertical-align: middle;\n",
       "    }\n",
       "\n",
       "    .dataframe tbody tr th {\n",
       "        vertical-align: top;\n",
       "    }\n",
       "\n",
       "    .dataframe thead th {\n",
       "        text-align: right;\n",
       "    }\n",
       "</style>\n",
       "<table border=\"1\" class=\"dataframe\">\n",
       "  <thead>\n",
       "    <tr style=\"text-align: right;\">\n",
       "      <th></th>\n",
       "      <th>long_name</th>\n",
       "      <th>ingredients_english</th>\n",
       "      <th>name_match</th>\n",
       "    </tr>\n",
       "  </thead>\n",
       "  <tbody>\n",
       "    <tr>\n",
       "      <th>54214</th>\n",
       "      <td>Keebler Fudge Shoppe Cookies Jif Peanut Butter...</td>\n",
       "      <td>Sugar, peanut butter (peanuts, sugar, vegetabl...</td>\n",
       "      <td>Match</td>\n",
       "    </tr>\n",
       "    <tr>\n",
       "      <th>210385</th>\n",
       "      <td>KEEBLER, JIF, FUDGE, PEANUT BUTTER &amp; CRUNCHY N...</td>\n",
       "      <td>SUGAR, PEANUT BUTTER (PEANUTS, SUGAR, HYDROGEN...</td>\n",
       "      <td>Match</td>\n",
       "    </tr>\n",
       "  </tbody>\n",
       "</table>\n",
       "</div>"
      ],
      "text/plain": [
       "                                                long_name  \\\n",
       "54214   Keebler Fudge Shoppe Cookies Jif Peanut Butter...   \n",
       "210385  KEEBLER, JIF, FUDGE, PEANUT BUTTER & CRUNCHY N...   \n",
       "\n",
       "                                      ingredients_english name_match  \n",
       "54214   Sugar, peanut butter (peanuts, sugar, vegetabl...      Match  \n",
       "210385  SUGAR, PEANUT BUTTER (PEANUTS, SUGAR, HYDROGEN...      Match  "
      ]
     },
     "metadata": {},
     "output_type": "display_data"
    }
   ],
   "source": [
    "import pandas as pd\n",
    "import numpy as np\n",
    "\n",
    "from IPython.display import display\n",
    "\n",
    "import warnings\n",
    "warnings.filterwarnings('ignore')\n",
    "\n",
    "products_df = products[[\"long_name\",\"ingredients_english\"]]\n",
    "\n",
    "products_df_peanuts = products_df[products_df['ingredients_english'].str.contains(\"PEANUTS\",  case=False, na=False)]\n",
    "products = pd.read_csv('Products.csv', encoding = \"ISO-8859-1\")\n",
    "\n",
    "food = input(\"Enter a food:\")\n",
    "products_df['name_match'] = 'No Match'\n",
    "products_df['name_match'][products_df['long_name'].str.contains(food ,  case=False, na=False)]  = 'Match'\n",
    "product_match = products_df[products_df['name_match']== 'Match']\n",
    "products_df_peanuts['name_match'] = 'No Match'\n",
    "products_df_peanuts['name_match'][products_df_peanuts['long_name'].str.contains(food ,  case=False, na=False)]  = 'Match'\n",
    "peanut_match = products_df_peanuts[products_df_peanuts['name_match']== 'Match']\n",
    "if product_match['long_name'].count() > 0:\n",
    "    print(\"This food is on the list\")\n",
    "if product_match['long_name'].count() == 0:\n",
    "    print(\"This is not a food. Please try again and enter a food\")\n",
    "if peanut_match['long_name'].count() == 0:\n",
    "    print(\"Not on peanut list\")\n",
    "else:\n",
    "    display(peanut_match)"
   ]
  },
  {
   "cell_type": "code",
   "execution_count": null,
   "metadata": {},
   "outputs": [],
   "source": [
    "\n"
   ]
  }
 ],
 "metadata": {
  "kernelspec": {
   "display_name": "Python 3",
   "language": "python",
   "name": "python3"
  },
  "language_info": {
   "codemirror_mode": {
    "name": "ipython",
    "version": 3
   },
   "file_extension": ".py",
   "mimetype": "text/x-python",
   "name": "python",
   "nbconvert_exporter": "python",
   "pygments_lexer": "ipython3",
   "version": "3.6.6"
  }
 },
 "nbformat": 4,
 "nbformat_minor": 2
}
